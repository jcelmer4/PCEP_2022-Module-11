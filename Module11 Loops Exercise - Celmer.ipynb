{
 "cells": [
  {
   "cell_type": "markdown",
   "metadata": {},
   "source": [
    "### Exercise 1\n",
    "Create a multiplication table from 1 to 10"
   ]
  },
  {
   "cell_type": "code",
   "execution_count": 1,
   "metadata": {},
   "outputs": [
    {
     "name": "stdout",
     "output_type": "stream",
     "text": [
      "Enter a number to calculate multiplicaiton table: 7\n",
      "Multiplicaiton table for 7\n",
      " 7 * 1 = 7\n",
      " 7 * 2 = 14\n",
      " 7 * 3 = 21\n",
      " 7 * 4 = 28\n",
      " 7 * 5 = 35\n",
      " 7 * 6 = 42\n",
      " 7 * 7 = 49\n",
      " 7 * 8 = 56\n",
      " 7 * 9 = 63\n",
      " 7 * 10 = 70\n"
     ]
    }
   ],
   "source": [
    "number = int(input(\"Enter a number to calculate multiplicaiton table: \"))\n",
    "\n",
    "print(f\"Multiplicaiton table for {number}\")\n",
    "for i in range(1, 11):\n",
    "        table = number * i\n",
    "        print(f\" {number} * {i} = {table}\")\n",
    "        "
   ]
  },
  {
   "cell_type": "markdown",
   "metadata": {},
   "source": [
    "### Exercise 2\n",
    "Write a program to find the Fibonacci numbers where each number is the sum of the two preceding ones, starting from 0 and 1. \n",
    "\n",
    "    e.g.\n",
    "    0, 1, 1, 2, 3, 5, 8, ...\n",
    "    \n",
    "Ask a user to enter a number. Next, generate user specified number of Fibonacci numbers into a list. Then print out the list. The output should look something like this:\n",
    "\n",
    "    How many Fibonacci numbers would you like to generate? 10    \n",
    "    10 Fibonacci numbers are [0, 1, 1, 2, 3, 5, 8, 13, 21, 34]."
   ]
  },
  {
   "cell_type": "code",
   "execution_count": 2,
   "metadata": {},
   "outputs": [],
   "source": [
    "def number_function():\n",
    "    num = int(input(\"How many Fibonacci numbers would like to generate? \"))\n",
    "    x = 0\n",
    "    y = 1\n",
    "    \n",
    "    for i in range(0, num):\n",
    "        num1 = x\n",
    "        num2 = x+y\n",
    "        num_list = (num1)\n",
    "        x=num2\n",
    "        y=num1\n",
    "        #print(num_list)\n",
    "        result = []\n",
    "        result.append(num_list)\n",
    "        print(result)\n",
    "        \n",
    "    return\n",
    "                   "
   ]
  },
  {
   "cell_type": "code",
   "execution_count": 3,
   "metadata": {},
   "outputs": [
    {
     "name": "stdout",
     "output_type": "stream",
     "text": [
      "How many Fibonacci numbers would like to generate? 10\n",
      "[0]\n",
      "[1]\n",
      "[1]\n",
      "[2]\n",
      "[3]\n",
      "[5]\n",
      "[8]\n",
      "[13]\n",
      "[21]\n",
      "[34]\n"
     ]
    }
   ],
   "source": [
    "number_function()\n"
   ]
  },
  {
   "cell_type": "code",
   "execution_count": null,
   "metadata": {},
   "outputs": [],
   "source": []
  }
 ],
 "metadata": {
  "kernelspec": {
   "display_name": "Python 3 (ipykernel)",
   "language": "python",
   "name": "python3"
  },
  "language_info": {
   "codemirror_mode": {
    "name": "ipython",
    "version": 3
   },
   "file_extension": ".py",
   "mimetype": "text/x-python",
   "name": "python",
   "nbconvert_exporter": "python",
   "pygments_lexer": "ipython3",
   "version": "3.9.12"
  }
 },
 "nbformat": 4,
 "nbformat_minor": 4
}
